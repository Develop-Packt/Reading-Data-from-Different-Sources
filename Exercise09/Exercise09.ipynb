{
 "cells": [
  {
   "cell_type": "markdown",
   "metadata": {},
   "source": [
    "###Execute the following commands to install the necessary libraries (if not installed already)\n",
    "\n",
    "###!pip install tabula-py xlrd lxml\n",
    "\n",
    "###You should have JAVA 8+ and Python 3.7+ installed"
   ]
  },
  {
   "cell_type": "code",
   "execution_count": 57,
   "metadata": {},
   "outputs": [],
   "source": [
    "from tabula import read_pdf"
   ]
  },
  {
   "cell_type": "code",
   "execution_count": 58,
   "metadata": {},
   "outputs": [
    {
     "data": {
      "text/plain": [
       "[         0     1     2  3      4      5     6       7  8    9\n",
       " 0  0.17004  12.5  7.87  0  0.524  6.004  85.9  6.5921  5  311\n",
       " 1  0.22489  12.5  7.87  0  0.524  6.377  94.3  6.3467  5  311\n",
       " 2  0.11747  12.5  7.87  0  0.524  6.009  82.9  6.2267  5  311\n",
       " 3  0.09378  12.5  7.87  0  0.524  5.889  39.0  5.4509  5  311]"
      ]
     },
     "execution_count": 58,
     "metadata": {},
     "output_type": "execute_result"
    }
   ],
   "source": [
    "import pandas as pd\n",
    "df18_1 = read_pdf('../datasets/Housing_data.pdf',pages=[1],pandas_options={'header':None})\n",
    "df18_1 "
   ]
  },
  {
   "cell_type": "code",
   "execution_count": 26,
   "metadata": {},
   "outputs": [
    {
     "data": {
      "text/plain": [
       "[      0       1      2     3\n",
       " 0  15.2  386.71  17.10  18.9\n",
       " 1  15.2  392.52  20.45  15.0\n",
       " 2  15.2  396.90  13.27  18.9\n",
       " 3  15.2  390.50  15.71  21.7]"
      ]
     },
     "execution_count": 26,
     "metadata": {},
     "output_type": "execute_result"
    }
   ],
   "source": [
    "df18_2 = read_pdf('../datasets/Housing_data.pdf',pages=[2],pandas_options={'header':None})\n",
    "df18_2\n"
   ]
  },
  {
   "cell_type": "code",
   "execution_count": 27,
   "metadata": {},
   "outputs": [],
   "source": [
    "import pandas as pd\n",
    "df1 = pd.DataFrame(df18_1)\n",
    "df2 = pd.DataFrame(df18_2)\n"
   ]
  },
  {
   "cell_type": "code",
   "execution_count": 28,
   "metadata": {},
   "outputs": [
    {
     "data": {
      "text/plain": [
       "[[         0     1     2  3      4      5     6       7  8    9\n",
       "  0  0.17004  12.5  7.87  0  0.524  6.004  85.9  6.5921  5  311\n",
       "  1  0.22489  12.5  7.87  0  0.524  6.377  94.3  6.3467  5  311\n",
       "  2  0.11747  12.5  7.87  0  0.524  6.009  82.9  6.2267  5  311\n",
       "  3  0.09378  12.5  7.87  0  0.524  5.889  39.0  5.4509  5  311,\n",
       "  0.0,\n",
       "  1.0,\n",
       "  2.0,\n",
       "  3.0]]"
      ]
     },
     "execution_count": 28,
     "metadata": {},
     "output_type": "execute_result"
    }
   ],
   "source": [
    "df18=pd.concat([df1,df2],axis=1)\n",
    "df18.values.tolist()\n"
   ]
  },
  {
   "cell_type": "code",
   "execution_count": 29,
   "metadata": {},
   "outputs": [
    {
     "data": {
      "text/plain": [
       "[[      CRIM    ZN  INDUS  CHAS    NOX     RM   AGE     DIS  RAD  TAX\n",
       "  0  0.17004  12.5   7.87     0  0.524  6.004  85.9  6.5921    5  311\n",
       "  1  0.22489  12.5   7.87     0  0.524  6.377  94.3  6.3467    5  311\n",
       "  2  0.11747  12.5   7.87     0  0.524  6.009  82.9  6.2267    5  311\n",
       "  3  0.09378  12.5   7.87     0  0.524  5.889  39.0  5.4509    5  311,\n",
       "     PTRATIO       B  LSTAT  PRICE\n",
       "  0     15.2  386.71  17.10   18.9\n",
       "  1     15.2  392.52  20.45   15.0\n",
       "  2     15.2  396.90  13.27   18.9\n",
       "  3     15.2  390.50  15.71   21.7]]"
      ]
     },
     "execution_count": 29,
     "metadata": {},
     "output_type": "execute_result"
    }
   ],
   "source": [
    "names=['CRIM','ZN','INDUS','CHAS','NOX','RM',\n",
    "'AGE','DIS','RAD','TAX','PTRATIO','B','LSTAT','PRICE']\n",
    "df18_1 = read_pdf('../datasets/Housing_data.pdf',pages=[1],pandas_options={'header':None,'names':names[:10]})\n",
    "df18_2 = read_pdf('../datasets/Housing_data.pdf',pages=[2],pandas_options={'header':None,'names':names[10:]})\n",
    "df1 = pd.DataFrame(df18_1)\n",
    "df2 = pd.DataFrame(df18_2)\n",
    "df18=pd.concat([df1,df2],axis=1)\n",
    "df18.values.tolist()"
   ]
  }
 ],
 "metadata": {
  "kernelspec": {
   "display_name": "Python 3",
   "language": "python",
   "name": "python3"
  },
  "language_info": {
   "codemirror_mode": {
    "name": "ipython",
    "version": 3
   },
   "file_extension": ".py",
   "mimetype": "text/x-python",
   "name": "python",
   "nbconvert_exporter": "python",
   "pygments_lexer": "ipython3",
   "version": "3.7.4"
  }
 },
 "nbformat": 4,
 "nbformat_minor": 2
}
