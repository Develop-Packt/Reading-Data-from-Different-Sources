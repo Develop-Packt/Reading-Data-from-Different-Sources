{
 "cells": [
  {
   "cell_type": "code",
   "execution_count": 1,
   "metadata": {},
   "outputs": [],
   "source": [
    "from bs4 import BeautifulSoup"
   ]
  },
  {
   "cell_type": "code",
   "execution_count": 2,
   "metadata": {},
   "outputs": [
    {
     "name": "stdout",
     "output_type": "stream",
     "text": [
      "<class 'bs4.BeautifulSoup'>\n"
     ]
    }
   ],
   "source": [
    "with open(\"../datasets/test.html\", \"r\") as fd:\n",
    "    soup = BeautifulSoup(fd)\n",
    "    print(type(soup))\n"
   ]
  },
  {
   "cell_type": "code",
   "execution_count": 3,
   "metadata": {},
   "outputs": [
    {
     "name": "stdout",
     "output_type": "stream",
     "text": [
      "<html>\n",
      " <body>\n",
      "  <h1>\n",
      "   Lorem ipsum dolor sit amet consectetuer adipiscing \n",
      "elit\n",
      "  </h1>\n",
      "  <p>\n",
      "   Lorem ipsum dolor sit amet, consectetuer adipiscing \n",
      "elit. Aenean commodo ligula eget dolor. Aenean massa\n",
      "   <strong>\n",
      "    strong\n",
      "   </strong>\n",
      "   . Cum sociis natoque penatibus \n",
      "et magnis dis parturient montes, nascetur ridiculus \n",
      "mus. Donec quam felis, ultricies nec, pellentesque \n",
      "eu, pretium quis, sem. Nulla consequat massa quis \n",
      "enim. Donec pede justo, fringilla vel, aliquet nec, \n",
      "vulputate eget, arcu. In enim justo, rhoncus ut, \n",
      "imperdiet a, venenatis vitae, justo. Nullam dictum \n",
      "felis eu pede\n",
      "   <a class=\"external ext\" href=\"#\">\n",
      "    link\n",
      "   </a>\n",
      "   mollis pretium. Integer tincidunt. Cras dapibus. \n",
      "Vivamus elementum semper nisi. Aenean vulputate \n",
      "eleifend tellus. Aenean leo ligula, porttitor eu, \n",
      "consequat vitae, eleifend ac, enim. Aliquam lorem ante, \n",
      "dapibus in, viverra quis, feugiat a, tellus. Phasellus \n",
      "viverra nulla ut metus varius laoreet. Quisque rutrum. \n",
      "Aenean imperdiet. Etiam ultricies nisi vel augue. \n",
      "Curabitur ullamcorper ultricies nisi.\n",
      "  </p>\n",
      "  <h1>\n",
      "   Lorem ipsum dolor sit amet consectetuer adipiscing \n",
      "elit\n",
      "  </h1>\n",
      "  <h2>\n",
      "   Aenean commodo ligula eget dolor aenean massa\n",
      "  </h2>\n",
      "  <p>\n",
      "   Lorem ipsum dolor sit amet, consectetuer adipiscing \n",
      "elit. Aenean commodo ligula eget dolor. Aenean massa. \n",
      "Cum sociis natoque penatibus et magnis dis parturient \n",
      "montes, nascetur ridiculus mus. Donec quam felis, \n",
      "ultricies nec, pellentesque eu, pretium quis, sem.\n",
      "  </p>\n",
      "  <h2>\n",
      "   Aenean commodo ligula eget dolor aenean massa\n",
      "  </h2>\n",
      "  <p>\n",
      "   Lorem ipsum dolor sit amet, consectetuer adipiscing \n",
      "elit. Aenean commodo ligula eget dolor. Aenean massa. \n",
      "Cum sociis natoque penatibus et magnis dis parturient \n",
      "montes, nascetur ridiculus mus. Donec quam felis, \n",
      "ultricies nec, pellentesque eu, pretium quis, sem.\n",
      "  </p>\n",
      "  <ul>\n",
      "   <li>\n",
      "    <a href=\"https://en.wikipedia.org/wiki/Entropy_(information_theory)\">\n",
      "     Information Entropy\n",
      "    </a>\n",
      "   </li>\n",
      "   <li>\n",
      "    <a href=\"http://www.gutenberg.org/browse/scores/top\">\n",
      "     Top books in Gutenberg\n",
      "    </a>\n",
      "   </li>\n",
      "   <li>\n",
      "    <a href=\"https://www.imdb.com/chart/top\">\n",
      "     Top 250 movies in IMDB\n",
      "    </a>\n",
      "   </li>\n",
      "  </ul>\n",
      "  <p>\n",
      "   Lorem ipsum dolor sit amet, consectetuer adipiscing \n",
      "elit. Aenean commodo ligula eget dolor. Aenean massa. \n",
      "Cum sociis natoque penatibus et magnis dis parturient \n",
      "montes, nascetur ridiculus mus. Donec quam felis, \n",
      "ultricies nec, pellentesque eu, pretium quis, sem.\n",
      "  </p>\n",
      "  <form action=\"#\" method=\"post\">\n",
      "   <fieldset>\n",
      "    <label for=\"name\">\n",
      "     Name:\n",
      "    </label>\n",
      "    <input id=\"name\" placeholder=\"Enter your \n",
      "full name\" type=\"text\"/>\n",
      "    <label for=\"email\">\n",
      "     Email:\n",
      "    </label>\n",
      "    <input id=\"email\" placeholder=\"Enter \n",
      "your email address\" type=\"email\"/>\n",
      "    <label for=\"message\">\n",
      "     Message:\n",
      "    </label>\n",
      "    <textarea id=\"message\" placeholder=\"What's on your \n",
      "mind?\"></textarea>\n",
      "    <input type=\"submit\" value=\"Send message\"/>\n",
      "   </fieldset>\n",
      "  </form>\n",
      "  <p>\n",
      "   Lorem ipsum dolor sit amet, consectetuer adipiscing \n",
      "elit. Aenean commodo ligula eget dolor. Aenean massa. \n",
      "Cum sociis natoque penatibus et magnis dis parturient \n",
      "montes, nascetur ridiculus mus. Donec quam felis, \n",
      "ultricies nec, pellentesque eu, pretium quis, sem.\n",
      "  </p>\n",
      "  <table class=\"data\">\n",
      "   <tr>\n",
      "    <th>\n",
      "     Entry Header 1\n",
      "    </th>\n",
      "    <th>\n",
      "     Entry Header 2\n",
      "    </th>\n",
      "    <th>\n",
      "     Entry Header 3\n",
      "    </th>\n",
      "    <th>\n",
      "     Entry Header 4\n",
      "    </th>\n",
      "   </tr>\n",
      "   <tr>\n",
      "    <td>\n",
      "     Entry First Line 1\n",
      "    </td>\n",
      "    <td>\n",
      "     Entry First Line 2\n",
      "    </td>\n",
      "    <td>\n",
      "     Entry First Line 3\n",
      "    </td>\n",
      "    <td>\n",
      "     Entry First Line 4\n",
      "    </td>\n",
      "   </tr>\n",
      "   <tr>\n",
      "    <td>\n",
      "     Entry Line 1\n",
      "    </td>\n",
      "    <td>\n",
      "     Entry Line 2\n",
      "    </td>\n",
      "    <td>\n",
      "     Entry Line 3\n",
      "    </td>\n",
      "    <td>\n",
      "     Entry Line 4\n",
      "    </td>\n",
      "   </tr>\n",
      "   <tr>\n",
      "    <td>\n",
      "     Entry Last Line 1\n",
      "    </td>\n",
      "    <td>\n",
      "     Entry Last Line 2\n",
      "    </td>\n",
      "    <td>\n",
      "     Entry Last Line 3\n",
      "    </td>\n",
      "    <td>\n",
      "     Entry Last Line 4\n",
      "    </td>\n",
      "   </tr>\n",
      "  </table>\n",
      "  <p>\n",
      "   Lorem ipsum dolor sit amet, consectetuer adipiscing \n",
      "elit. Aenean commodo ligula eget dolor. Aenean massa. \n",
      "Cum sociis natoque penatibus et magnis dis parturient \n",
      "montes, nascetur ridiculus mus. Donec quam felis, \n",
      "ultricies nec, pellentesque eu, pretium quis, sem.\n",
      "  </p>\n",
      " </body>\n",
      "</html>\n"
     ]
    }
   ],
   "source": [
    "print(soup.prettify())"
   ]
  },
  {
   "cell_type": "code",
   "execution_count": 4,
   "metadata": {},
   "outputs": [
    {
     "name": "stdout",
     "output_type": "stream",
     "text": [
      "<p>Lorem ipsum dolor sit amet, consectetuer adipiscing \n",
      "elit. Aenean commodo ligula eget dolor. Aenean massa \n",
      "<strong>strong</strong>. Cum sociis natoque penatibus \n",
      "et magnis dis parturient montes, nascetur ridiculus \n",
      "mus. Donec quam felis, ultricies nec, pellentesque \n",
      "eu, pretium quis, sem. Nulla consequat massa quis \n",
      "enim. Donec pede justo, fringilla vel, aliquet nec, \n",
      "vulputate eget, arcu. In enim justo, rhoncus ut, \n",
      "imperdiet a, venenatis vitae, justo. Nullam dictum \n",
      "felis eu pede <a class=\"external ext\" href=\"#\">link</a> \n",
      "mollis pretium. Integer tincidunt. Cras dapibus. \n",
      "Vivamus elementum semper nisi. Aenean vulputate \n",
      "eleifend tellus. Aenean leo ligula, porttitor eu, \n",
      "consequat vitae, eleifend ac, enim. Aliquam lorem ante, \n",
      "dapibus in, viverra quis, feugiat a, tellus. Phasellus \n",
      "viverra nulla ut metus varius laoreet. Quisque rutrum. \n",
      "Aenean imperdiet. Etiam ultricies nisi vel augue. \n",
      "Curabitur ullamcorper ultricies nisi.</p>\n"
     ]
    }
   ],
   "source": [
    "with open(\"../datasets/test.html\", \"r\") as fd:\n",
    "    soup = BeautifulSoup(fd)\n",
    "    print(soup.p)\n"
   ]
  },
  {
   "cell_type": "code",
   "execution_count": 5,
   "metadata": {},
   "outputs": [
    {
     "name": "stdout",
     "output_type": "stream",
     "text": [
      "Total number of <p>  --- 6\n"
     ]
    }
   ],
   "source": [
    "with open(\"../datasets/test.html\", \"r\") as fd:\n",
    "    soup = BeautifulSoup(fd)\n",
    "    all_ps = soup.find_all('p')\n",
    "    print(\"Total number of <p>  --- {}\".format(len(all_ps)))\n"
   ]
  },
  {
   "cell_type": "code",
   "execution_count": 6,
   "metadata": {},
   "outputs": [
    {
     "name": "stdout",
     "output_type": "stream",
     "text": [
      "['\\n', <tr>\n",
      "<th>Entry Header 1</th>\n",
      "<th>Entry Header 2</th>\n",
      "<th>Entry Header 3</th>\n",
      "<th>Entry Header 4</th>\n",
      "</tr>, '\\n', <tr>\n",
      "<td>Entry First Line 1</td>\n",
      "<td>Entry First Line 2</td>\n",
      "<td>Entry First Line 3</td>\n",
      "<td>Entry First Line 4</td>\n",
      "</tr>, '\\n', <tr>\n",
      "<td>Entry Line 1</td>\n",
      "<td>Entry Line 2</td>\n",
      "<td>Entry Line 3</td>\n",
      "<td>Entry Line 4</td>\n",
      "</tr>, '\\n', <tr>\n",
      "<td>Entry Last Line 1</td>\n",
      "<td>Entry Last Line 2</td>\n",
      "<td>Entry Last Line 3</td>\n",
      "<td>Entry Last Line 4</td>\n",
      "</tr>, '\\n']\n"
     ]
    }
   ],
   "source": [
    "with open(\"../datasets/test.html\", \"r\") as fd:\n",
    "    soup = BeautifulSoup(fd)\n",
    "    table = soup.table\n",
    "    print(table.contents)\n"
   ]
  },
  {
   "cell_type": "code",
   "execution_count": 7,
   "metadata": {
    "scrolled": true
   },
   "outputs": [
    {
     "name": "stdout",
     "output_type": "stream",
     "text": [
      "\n",
      "\n",
      "*****\n",
      "<tr>\n",
      "<th>Entry Header 1</th>\n",
      "<th>Entry Header 2</th>\n",
      "<th>Entry Header 3</th>\n",
      "<th>Entry Header 4</th>\n",
      "</tr>\n",
      "*****\n",
      "\n",
      "\n",
      "*****\n",
      "<tr>\n",
      "<td>Entry First Line 1</td>\n",
      "<td>Entry First Line 2</td>\n",
      "<td>Entry First Line 3</td>\n",
      "<td>Entry First Line 4</td>\n",
      "</tr>\n",
      "*****\n",
      "\n",
      "\n",
      "*****\n",
      "<tr>\n",
      "<td>Entry Line 1</td>\n",
      "<td>Entry Line 2</td>\n",
      "<td>Entry Line 3</td>\n",
      "<td>Entry Line 4</td>\n",
      "</tr>\n",
      "*****\n",
      "\n",
      "\n",
      "*****\n",
      "<tr>\n",
      "<td>Entry Last Line 1</td>\n",
      "<td>Entry Last Line 2</td>\n",
      "<td>Entry Last Line 3</td>\n",
      "<td>Entry Last Line 4</td>\n",
      "</tr>\n",
      "*****\n",
      "\n",
      "\n",
      "*****\n"
     ]
    }
   ],
   "source": [
    "with open(\"../datasets/test.html\", \"r\") as fd:\n",
    "    soup = BeautifulSoup(fd)\n",
    "    table = soup.table\n",
    "    for child in table.children:\n",
    "        print(child)\n",
    "        print(\"*****\")\n"
   ]
  },
  {
   "cell_type": "code",
   "execution_count": 8,
   "metadata": {},
   "outputs": [
    {
     "name": "stdout",
     "output_type": "stream",
     "text": [
      "9 61\n"
     ]
    }
   ],
   "source": [
    "with open(\"../datasets/test.html\", \"r\") as fd:\n",
    "    soup = BeautifulSoup(fd)\n",
    "    table = soup.table\n",
    "    children = table.children\n",
    "    des = table.descendants\n",
    "    print(len(list(children)), len(list(des)))\n"
   ]
  }
 ],
 "metadata": {
  "kernelspec": {
   "display_name": "Python 3",
   "language": "python",
   "name": "python3"
  },
  "language_info": {
   "codemirror_mode": {
    "name": "ipython",
    "version": 3
   },
   "file_extension": ".py",
   "mimetype": "text/x-python",
   "name": "python",
   "nbconvert_exporter": "python",
   "pygments_lexer": "ipython3",
   "version": "3.7.4"
  }
 },
 "nbformat": 4,
 "nbformat_minor": 2
}
