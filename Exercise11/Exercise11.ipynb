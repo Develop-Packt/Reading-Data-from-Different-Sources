{
 "cells": [
  {
   "cell_type": "code",
   "execution_count": 6,
   "metadata": {
    "scrolled": false
   },
   "outputs": [
    {
     "name": "stdout",
     "output_type": "stream",
     "text": [
      "Data is a <class 'bs4.element.ResultSet'> and 4 items long\n"
     ]
    }
   ],
   "source": [
    "import pandas as pd\n",
    "from bs4 import BeautifulSoup\n",
    "fd = open(\"../datasets/test.html\", \"r\")\n",
    "soup = BeautifulSoup(fd)\n",
    "data = soup.findAll('tr')\n",
    "print(\"Data is a {} and {} items long\".format(type(data), len(data)))\n"
   ]
  },
  {
   "cell_type": "code",
   "execution_count": 7,
   "metadata": {
    "scrolled": true
   },
   "outputs": [
    {
     "data": {
      "text/plain": [
       "<tr>\n",
       "<th>Entry Header 1</th>\n",
       "<th>Entry Header 2</th>\n",
       "<th>Entry Header 3</th>\n",
       "<th>Entry Header 4</th>\n",
       "</tr>"
      ]
     },
     "execution_count": 7,
     "metadata": {},
     "output_type": "execute_result"
    }
   ],
   "source": [
    "data_without_header = data[1:]\n",
    "headers = data[0]\n",
    "headers\n"
   ]
  },
  {
   "cell_type": "code",
   "execution_count": 8,
   "metadata": {},
   "outputs": [
    {
     "data": {
      "text/plain": [
       "['Entry Header 1', 'Entry Header 2', 'Entry Header 3', 'Entry Header 4']"
      ]
     },
     "execution_count": 8,
     "metadata": {},
     "output_type": "execute_result"
    }
   ],
   "source": [
    "col_headers = [th.getText() for th in headers.findAll('th')]\n",
    "col_headers\n"
   ]
  },
  {
   "cell_type": "code",
   "execution_count": 9,
   "metadata": {},
   "outputs": [
    {
     "data": {
      "text/plain": [
       "[['Entry First Line 1',\n",
       "  'Entry First Line 2',\n",
       "  'Entry First Line 3',\n",
       "  'Entry First Line 4'],\n",
       " ['Entry Line 1', 'Entry Line 2', 'Entry Line 3', 'Entry Line 4'],\n",
       " ['Entry Last Line 1',\n",
       "  'Entry Last Line 2',\n",
       "  'Entry Last Line 3',\n",
       "  'Entry Last Line 4']]"
      ]
     },
     "execution_count": 9,
     "metadata": {},
     "output_type": "execute_result"
    }
   ],
   "source": [
    "df_data = [[td.getText() for td in tr.findAll('td')] for tr in data_without_header]\n",
    "df_data\n"
   ]
  },
  {
   "cell_type": "code",
   "execution_count": 10,
   "metadata": {},
   "outputs": [
    {
     "data": {
      "text/html": [
       "<div>\n",
       "<style scoped>\n",
       "    .dataframe tbody tr th:only-of-type {\n",
       "        vertical-align: middle;\n",
       "    }\n",
       "\n",
       "    .dataframe tbody tr th {\n",
       "        vertical-align: top;\n",
       "    }\n",
       "\n",
       "    .dataframe thead th {\n",
       "        text-align: right;\n",
       "    }\n",
       "</style>\n",
       "<table border=\"1\" class=\"dataframe\">\n",
       "  <thead>\n",
       "    <tr style=\"text-align: right;\">\n",
       "      <th></th>\n",
       "      <th>Entry Header 1</th>\n",
       "      <th>Entry Header 2</th>\n",
       "      <th>Entry Header 3</th>\n",
       "      <th>Entry Header 4</th>\n",
       "    </tr>\n",
       "  </thead>\n",
       "  <tbody>\n",
       "    <tr>\n",
       "      <th>0</th>\n",
       "      <td>Entry First Line 1</td>\n",
       "      <td>Entry First Line 2</td>\n",
       "      <td>Entry First Line 3</td>\n",
       "      <td>Entry First Line 4</td>\n",
       "    </tr>\n",
       "    <tr>\n",
       "      <th>1</th>\n",
       "      <td>Entry Line 1</td>\n",
       "      <td>Entry Line 2</td>\n",
       "      <td>Entry Line 3</td>\n",
       "      <td>Entry Line 4</td>\n",
       "    </tr>\n",
       "    <tr>\n",
       "      <th>2</th>\n",
       "      <td>Entry Last Line 1</td>\n",
       "      <td>Entry Last Line 2</td>\n",
       "      <td>Entry Last Line 3</td>\n",
       "      <td>Entry Last Line 4</td>\n",
       "    </tr>\n",
       "  </tbody>\n",
       "</table>\n",
       "</div>"
      ],
      "text/plain": [
       "       Entry Header 1      Entry Header 2      Entry Header 3  \\\n",
       "0  Entry First Line 1  Entry First Line 2  Entry First Line 3   \n",
       "1        Entry Line 1        Entry Line 2        Entry Line 3   \n",
       "2   Entry Last Line 1   Entry Last Line 2   Entry Last Line 3   \n",
       "\n",
       "       Entry Header 4  \n",
       "0  Entry First Line 4  \n",
       "1        Entry Line 4  \n",
       "2   Entry Last Line 4  "
      ]
     },
     "execution_count": 10,
     "metadata": {},
     "output_type": "execute_result"
    }
   ],
   "source": [
    "df = pd.DataFrame(df_data, columns=col_headers)\n",
    "df.head()\n",
    "\n"
   ]
  },
  {
   "cell_type": "code",
   "execution_count": null,
   "metadata": {},
   "outputs": [],
   "source": []
  }
 ],
 "metadata": {
  "kernelspec": {
   "display_name": "Python 3",
   "language": "python",
   "name": "python3"
  },
  "language_info": {
   "codemirror_mode": {
    "name": "ipython",
    "version": 3
   },
   "file_extension": ".py",
   "mimetype": "text/x-python",
   "name": "python",
   "nbconvert_exporter": "python",
   "pygments_lexer": "ipython3",
   "version": "3.7.4"
  }
 },
 "nbformat": 4,
 "nbformat_minor": 2
}
